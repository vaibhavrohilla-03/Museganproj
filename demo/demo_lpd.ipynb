{
 "cells": [
  {
   "cell_type": "markdown",
   "id": "spare-softball",
   "metadata": {},
   "source": [
    "# Import libraries"
   ]
  },
  {
   "cell_type": "code",
   "execution_count": 1,
   "id": "olympic-switch",
   "metadata": {},
   "outputs": [
    {
     "name": "stdout",
     "output_type": "stream",
     "text": [
      "cuda:0\n"
     ]
    }
   ],
   "source": [
    "import os\n",
    "import numpy as np\n",
    "from matplotlib import pyplot as plt\n",
    "import torch\n",
    "from torch import nn\n",
    "\n",
    "device = torch.device('cuda:0' if torch.cuda.is_available() else 'cpu')\n",
    "print(device)"
   ]
  },
  {
   "cell_type": "markdown",
   "id": "unable-setup",
   "metadata": {},
   "source": [
    "# Models"
   ]
  },
  {
   "cell_type": "code",
   "execution_count": 2,
   "id": "chicken-championship",
   "metadata": {},
   "outputs": [],
   "source": [
    "from gan import TemporalNetwork, BarGenerator, MuseCritic, MuseGenerator"
   ]
  },
  {
   "cell_type": "markdown",
   "id": "opposed-channels",
   "metadata": {},
   "source": [
    "# TempNetwork"
   ]
  },
  {
   "cell_type": "code",
   "execution_count": 3,
   "id": "cubic-piece",
   "metadata": {},
   "outputs": [
    {
     "data": {
      "text/plain": [
       "torch.Size([10, 32, 5])"
      ]
     },
     "execution_count": 3,
     "metadata": {},
     "output_type": "execute_result"
    }
   ],
   "source": [
    "tempnet = TemporalNetwork(n_bars=5)\n",
    "x = torch.rand(10, 32)\n",
    "tempnet(x).shape"
   ]
  },
  {
   "cell_type": "code",
   "execution_count": 4,
   "id": "weighted-daily",
   "metadata": {},
   "outputs": [
    {
     "name": "stdout",
     "output_type": "stream",
     "text": [
      "Number of parameters: 199776\n"
     ]
    }
   ],
   "source": [
    "print('Number of parameters:', sum(p.numel() for p in tempnet.parameters()))"
   ]
  },
  {
   "cell_type": "markdown",
   "id": "alert-marks",
   "metadata": {},
   "source": [
    "# BarGenerator"
   ]
  },
  {
   "cell_type": "code",
   "execution_count": 5,
   "id": "enhanced-begin",
   "metadata": {},
   "outputs": [
    {
     "data": {
      "text/plain": [
       "torch.Size([10, 1, 1, 48, 84])"
      ]
     },
     "execution_count": 5,
     "metadata": {},
     "output_type": "execute_result"
    }
   ],
   "source": [
    "bargenerator = BarGenerator(\n",
    "    z_dimension=32,\n",
    "    hid_features=1152,\n",
    "    hid_channels=192,\n",
    "    n_steps_per_bar=48,\n",
    "    n_pitches=84,\n",
    ")\n",
    "a = torch.rand(10, 128)\n",
    "bargenerator(a).shape"
   ]
  },
  {
   "cell_type": "code",
   "execution_count": 6,
   "id": "finnish-friendship",
   "metadata": {},
   "outputs": [
    {
     "name": "stdout",
     "output_type": "stream",
     "text": [
      "Number of parameters: 347041\n"
     ]
    }
   ],
   "source": [
    "print('Number of parameters:', sum(p.numel() for p in bargenerator.parameters()))"
   ]
  },
  {
   "cell_type": "markdown",
   "id": "ecological-slovakia",
   "metadata": {},
   "source": [
    "# MuseGenerator"
   ]
  },
  {
   "cell_type": "code",
   "execution_count": 7,
   "id": "dressed-ideal",
   "metadata": {},
   "outputs": [
    {
     "data": {
      "text/plain": [
       "torch.Size([10, 4, 5, 48, 84])"
      ]
     },
     "execution_count": 7,
     "metadata": {},
     "output_type": "execute_result"
    }
   ],
   "source": [
    "generator = MuseGenerator(\n",
    "    z_dimension=32,\n",
    "    hid_channels=192 * 2,\n",
    "    hid_features=1152,\n",
    "    out_channels=1,\n",
    "    n_tracks=4,\n",
    "    n_bars=5,\n",
    "    n_steps_per_bar=48,\n",
    "    n_pitches=84,\n",
    ")\n",
    "\n",
    "cords = torch.rand(10, 32)\n",
    "style = torch.rand(10, 32)\n",
    "melody = torch.rand(10, 4, 32)\n",
    "groove = torch.rand(10, 4, 32)\n",
    "\n",
    "generator(cords, style, melody, groove).shape"
   ]
  },
  {
   "cell_type": "code",
   "execution_count": 8,
   "id": "shaped-poetry",
   "metadata": {},
   "outputs": [
    {
     "name": "stdout",
     "output_type": "stream",
     "text": [
      "Number of parameters: 1763044\n"
     ]
    }
   ],
   "source": [
    "print('Number of parameters:', sum(p.numel() for p in generator.parameters()))"
   ]
  },
  {
   "cell_type": "markdown",
   "id": "departmental-filing",
   "metadata": {},
   "source": [
    "# MuseCritic"
   ]
  },
  {
   "cell_type": "code",
   "execution_count": 9,
   "id": "pending-surgeon",
   "metadata": {},
   "outputs": [
    {
     "data": {
      "text/plain": [
       "torch.Size([10, 1])"
      ]
     },
     "execution_count": 9,
     "metadata": {},
     "output_type": "execute_result"
    }
   ],
   "source": [
    "critic = MuseCritic(\n",
    "    hid_channels=128,\n",
    "    n_tracks=4,\n",
    "    n_bars=5,\n",
    "    n_steps_per_bar=48,\n",
    "    n_pitches=84,\n",
    ")\n",
    "a = torch.rand(10, 4, 5, 48, 84)\n",
    "critic(a).shape"
   ]
  },
  {
   "cell_type": "code",
   "execution_count": 10,
   "id": "sweet-fraud",
   "metadata": {},
   "outputs": [
    {
     "name": "stdout",
     "output_type": "stream",
     "text": [
      "Number of parameters: 2544129\n"
     ]
    }
   ],
   "source": [
    "print('Number of parameters:', sum(p.numel() for p in critic.parameters()))"
   ]
  },
  {
   "cell_type": "markdown",
   "id": "surprised-finnish",
   "metadata": {},
   "source": [
    "# Dataset Loader"
   ]
  },
  {
   "cell_type": "code",
   "execution_count": 11,
   "id": "e2367a50-0aa4-460a-a7ab-117ae83c5455",
   "metadata": {},
   "outputs": [],
   "source": [
    "from torch import Tensor\n",
    "\n",
    "import torch\n",
    "from torch import nn\n",
    "from torch.utils.data import Dataset\n",
    "\n",
    "import numpy as np\n",
    "\n",
    "\n",
    "class LPDDataset(Dataset):\n",
    "    \"\"\"LPDDataset.\n",
    "\n",
    "    Parameters\n",
    "    ----------\n",
    "    path: str\n",
    "        Path to dataset.\n",
    "    \"\"\"\n",
    "\n",
    "    def __init__(\n",
    "        self,\n",
    "        path: str,\n",
    "    ) -> None:\n",
    "        \"\"\"Initialize.\"\"\"\n",
    "        dataset = np.load(path, allow_pickle=True, encoding=\"bytes\")\n",
    "        self.data_binary = dataset[\"arr_0\"]\n",
    "\n",
    "    def __len__(self) -> int:\n",
    "        \"\"\"Return the number of samples in dataset.\"\"\"\n",
    "        return len(self.data_binary)\n",
    "\n",
    "    def __getitem__(self, index: int) -> Tensor:\n",
    "        return torch.from_numpy(self.data_binary[index]).float()"
   ]
  },
  {
   "cell_type": "code",
   "execution_count": 12,
   "id": "indian-lightning",
   "metadata": {},
   "outputs": [],
   "source": [
    "from torch.utils.data import DataLoader\n",
    "\n",
    "dataset = LPDDataset(path='data/lpd/train_x_lpd_5.npz')\n",
    "dataloader = DataLoader(dataset, batch_size=64, shuffle=True, drop_last=True)"
   ]
  },
  {
   "cell_type": "code",
   "execution_count": 14,
   "id": "65185ebd-eaca-42e6-8f9f-2daca7cb9614",
   "metadata": {},
   "outputs": [],
   "source": [
    "x = next(iter(dataloader))"
   ]
  },
  {
   "cell_type": "code",
   "execution_count": 15,
   "id": "6ab09eb0-46d3-4979-9d62-a36345bbf061",
   "metadata": {},
   "outputs": [
    {
     "data": {
      "text/plain": [
       "torch.Size([64, 4, 5, 48, 84])"
      ]
     },
     "execution_count": 15,
     "metadata": {},
     "output_type": "execute_result"
    }
   ],
   "source": [
    "x.shape"
   ]
  },
  {
   "cell_type": "markdown",
   "id": "introductory-agent",
   "metadata": {},
   "source": [
    "# Define Models"
   ]
  },
  {
   "cell_type": "markdown",
   "id": "caroline-mediterranean",
   "metadata": {},
   "source": [
    "### Generator"
   ]
  },
  {
   "cell_type": "code",
   "execution_count": 12,
   "id": "minus-uniform",
   "metadata": {},
   "outputs": [],
   "source": [
    "generator = generator.to(device)\n",
    "g_optimizer = torch.optim.Adam(generator.parameters(), lr=0.001, betas=(0.5, 0.9))"
   ]
  },
  {
   "cell_type": "markdown",
   "id": "worthy-publisher",
   "metadata": {},
   "source": [
    "### Critic"
   ]
  },
  {
   "cell_type": "code",
   "execution_count": 13,
   "id": "future-diamond",
   "metadata": {},
   "outputs": [],
   "source": [
    "critic = critic.to(device)\n",
    "c_optimizer = torch.optim.Adam(critic.parameters(), lr=0.001, betas=(0.5, 0.9))"
   ]
  },
  {
   "cell_type": "code",
   "execution_count": 14,
   "id": "inside-clone",
   "metadata": {},
   "outputs": [],
   "source": [
    "from gan import initialize_weights\n",
    "\n",
    "generator = generator.apply(initialize_weights)\n",
    "critic = critic.apply(initialize_weights)"
   ]
  },
  {
   "cell_type": "markdown",
   "id": "forbidden-subscription",
   "metadata": {},
   "source": [
    "# Training"
   ]
  },
  {
   "cell_type": "code",
   "execution_count": 15,
   "id": "thrown-manual",
   "metadata": {},
   "outputs": [],
   "source": [
    "from trainer import Trainer"
   ]
  },
  {
   "cell_type": "code",
   "execution_count": 16,
   "id": "taken-cover",
   "metadata": {},
   "outputs": [],
   "source": [
    "trainer = Trainer(generator, critic, g_optimizer, c_optimizer)"
   ]
  },
  {
   "cell_type": "code",
   "execution_count": 17,
   "id": "stretch-first",
   "metadata": {},
   "outputs": [
    {
     "data": {
      "application/vnd.jupyter.widget-view+json": {
       "model_id": "aa461084eefc45b2a3986602f3ff76f3",
       "version_major": 2,
       "version_minor": 0
      },
      "text/plain": [
       "  0%|          | 0/1000 [00:00<?, ?it/s]"
      ]
     },
     "metadata": {},
     "output_type": "display_data"
    },
    {
     "name": "stdout",
     "output_type": "stream",
     "text": [
      "Epoch 0/1000 | Generator loss: 283.696 | Critic loss: -59.824 (fake: -113.416, real: -78.906, penalty: 132.498)\n",
      "Epoch 10/1000 | Generator loss: 1416.081 | Critic loss: -90.970 (fake: -1404.854, real: 1266.070, penalty: 47.814)\n",
      "Epoch 20/1000 | Generator loss: 1120.073 | Critic loss: -23.049 (fake: -979.125, real: 949.011, penalty: 7.064)\n",
      "Epoch 30/1000 | Generator loss: 1549.019 | Critic loss: -16.610 (fake: -1421.818, real: 1400.905, penalty: 4.302)\n",
      "Epoch 40/1000 | Generator loss: 1838.669 | Critic loss: -16.827 (fake: -1572.482, real: 1550.730, penalty: 4.925)\n",
      "Epoch 50/1000 | Generator loss: -506.726 | Critic loss: -11.550 (fake: 318.523, real: -333.394, penalty: 3.322)\n",
      "Epoch 60/1000 | Generator loss: 13.024 | Critic loss: -7.195 (fake: -470.180, real: 461.700, penalty: 1.285)\n",
      "Epoch 70/1000 | Generator loss: -116.581 | Critic loss: -6.527 (fake: -37.536, real: 29.959, penalty: 1.051)\n",
      "Epoch 80/1000 | Generator loss: -198.498 | Critic loss: -16.204 (fake: 277.828, real: -298.975, penalty: 4.943)\n",
      "Epoch 90/1000 | Generator loss: -39.370 | Critic loss: -18.766 (fake: 4.132, real: -29.174, penalty: 6.275)\n",
      "Epoch 100/1000 | Generator loss: -68.219 | Critic loss: -20.971 (fake: 19.871, real: -47.893, penalty: 7.051)\n",
      "Epoch 110/1000 | Generator loss: -2.988 | Critic loss: -21.311 (fake: 28.085, real: -56.196, penalty: 6.799)\n",
      "Epoch 120/1000 | Generator loss: -39.153 | Critic loss: -19.753 (fake: 44.948, real: -70.723, penalty: 6.022)\n",
      "Epoch 130/1000 | Generator loss: -65.977 | Critic loss: -18.510 (fake: 48.830, real: -72.801, penalty: 5.461)\n",
      "Epoch 140/1000 | Generator loss: -42.050 | Critic loss: -17.981 (fake: 34.502, real: -57.509, penalty: 5.027)\n",
      "Epoch 150/1000 | Generator loss: -34.819 | Critic loss: -16.179 (fake: 36.925, real: -57.340, penalty: 4.236)\n",
      "Epoch 160/1000 | Generator loss: -29.384 | Critic loss: -15.712 (fake: 32.100, real: -51.843, penalty: 4.031)\n",
      "Epoch 170/1000 | Generator loss: -30.901 | Critic loss: -14.772 (fake: 34.487, real: -52.876, penalty: 3.618)\n",
      "Epoch 180/1000 | Generator loss: -32.145 | Critic loss: -13.848 (fake: 44.711, real: -61.910, penalty: 3.351)\n",
      "Epoch 190/1000 | Generator loss: -34.598 | Critic loss: -12.318 (fake: 32.454, real: -47.533, penalty: 2.760)\n",
      "Epoch 200/1000 | Generator loss: -36.595 | Critic loss: -11.925 (fake: 45.905, real: -60.540, penalty: 2.710)\n",
      "Epoch 210/1000 | Generator loss: -32.206 | Critic loss: -11.643 (fake: 33.041, real: -47.195, penalty: 2.512)\n",
      "Epoch 220/1000 | Generator loss: -39.226 | Critic loss: -11.297 (fake: 36.877, real: -50.498, penalty: 2.324)\n",
      "Epoch 230/1000 | Generator loss: -32.944 | Critic loss: -10.565 (fake: 35.447, real: -48.868, penalty: 2.855)\n",
      "Epoch 240/1000 | Generator loss: -29.777 | Critic loss: -10.140 (fake: 29.347, real: -41.751, penalty: 2.264)\n",
      "Epoch 250/1000 | Generator loss: -33.117 | Critic loss: -10.605 (fake: 39.834, real: -52.585, penalty: 2.146)\n",
      "Epoch 260/1000 | Generator loss: -37.023 | Critic loss: -10.409 (fake: 33.970, real: -46.421, penalty: 2.042)\n",
      "Epoch 270/1000 | Generator loss: -31.773 | Critic loss: -10.231 (fake: 31.579, real: -43.827, penalty: 2.017)\n",
      "Epoch 280/1000 | Generator loss: -35.652 | Critic loss: -10.626 (fake: 32.756, real: -45.493, penalty: 2.112)\n",
      "Epoch 290/1000 | Generator loss: -31.618 | Critic loss: -11.142 (fake: 29.637, real: -42.944, penalty: 2.166)\n",
      "Epoch 300/1000 | Generator loss: -28.101 | Critic loss: -10.738 (fake: 26.820, real: -39.819, penalty: 2.261)\n",
      "Epoch 310/1000 | Generator loss: -19.435 | Critic loss: -10.615 (fake: 22.859, real: -35.560, penalty: 2.086)\n",
      "Epoch 320/1000 | Generator loss: -17.549 | Critic loss: -10.506 (fake: 21.142, real: -33.692, penalty: 2.044)\n",
      "Epoch 330/1000 | Generator loss: -12.309 | Critic loss: -10.294 (fake: 15.395, real: -27.714, penalty: 2.025)\n",
      "Epoch 340/1000 | Generator loss: -11.969 | Critic loss: -10.444 (fake: 13.575, real: -26.048, penalty: 2.029)\n",
      "Epoch 350/1000 | Generator loss: -8.887 | Critic loss: -11.119 (fake: 10.033, real: -23.444, penalty: 2.292)\n",
      "Epoch 360/1000 | Generator loss: -9.132 | Critic loss: -11.787 (fake: 10.116, real: -24.527, penalty: 2.624)\n",
      "Epoch 370/1000 | Generator loss: -9.462 | Critic loss: -11.926 (fake: 8.555, real: -23.173, penalty: 2.692)\n",
      "Epoch 380/1000 | Generator loss: -10.314 | Critic loss: -11.893 (fake: 9.746, real: -24.140, penalty: 2.501)\n",
      "Epoch 390/1000 | Generator loss: -11.264 | Critic loss: -11.942 (fake: 9.476, real: -23.949, penalty: 2.531)\n",
      "Epoch 400/1000 | Generator loss: -9.937 | Critic loss: -12.130 (fake: 10.963, real: -25.770, penalty: 2.677)\n",
      "Epoch 410/1000 | Generator loss: -10.480 | Critic loss: -12.018 (fake: 9.459, real: -24.034, penalty: 2.556)\n",
      "Epoch 420/1000 | Generator loss: -9.107 | Critic loss: -11.978 (fake: 8.375, real: -23.029, penalty: 2.676)\n",
      "Epoch 430/1000 | Generator loss: -8.620 | Critic loss: -12.188 (fake: 8.937, real: -23.735, penalty: 2.610)\n",
      "Epoch 440/1000 | Generator loss: -8.780 | Critic loss: -12.369 (fake: 9.588, real: -24.762, penalty: 2.805)\n",
      "Epoch 450/1000 | Generator loss: -8.433 | Critic loss: -12.827 (fake: 8.735, real: -24.541, penalty: 2.979)\n",
      "Epoch 460/1000 | Generator loss: -8.517 | Critic loss: -12.655 (fake: 9.583, real: -25.040, penalty: 2.802)\n",
      "Epoch 470/1000 | Generator loss: -7.074 | Critic loss: -12.773 (fake: 9.315, real: -25.098, penalty: 3.011)\n",
      "Epoch 480/1000 | Generator loss: -8.930 | Critic loss: -12.833 (fake: 9.477, real: -25.103, penalty: 2.792)\n",
      "Epoch 490/1000 | Generator loss: -7.405 | Critic loss: -13.179 (fake: 8.717, real: -24.993, penalty: 3.097)\n",
      "Epoch 500/1000 | Generator loss: -9.724 | Critic loss: -13.280 (fake: 9.130, real: -25.479, penalty: 3.069)\n",
      "Epoch 510/1000 | Generator loss: -8.901 | Critic loss: -13.259 (fake: 8.526, real: -24.992, penalty: 3.207)\n",
      "Epoch 520/1000 | Generator loss: -8.451 | Critic loss: -13.666 (fake: 8.312, real: -25.141, penalty: 3.162)\n",
      "Epoch 530/1000 | Generator loss: -9.572 | Critic loss: -13.849 (fake: 8.525, real: -25.821, penalty: 3.447)\n",
      "Epoch 540/1000 | Generator loss: -7.627 | Critic loss: -14.002 (fake: 8.555, real: -25.863, penalty: 3.307)\n",
      "Epoch 550/1000 | Generator loss: -7.564 | Critic loss: -14.388 (fake: 8.498, real: -26.493, penalty: 3.607)\n",
      "Epoch 560/1000 | Generator loss: -8.983 | Critic loss: -14.420 (fake: 9.067, real: -27.109, penalty: 3.621)\n",
      "Epoch 570/1000 | Generator loss: -8.364 | Critic loss: -14.956 (fake: 8.788, real: -27.449, penalty: 3.705)\n",
      "Epoch 580/1000 | Generator loss: -7.285 | Critic loss: -14.941 (fake: 8.331, real: -27.048, penalty: 3.776)\n",
      "Epoch 590/1000 | Generator loss: -9.383 | Critic loss: -15.539 (fake: 8.117, real: -27.659, penalty: 4.003)\n",
      "Epoch 600/1000 | Generator loss: -8.357 | Critic loss: -15.834 (fake: 8.404, real: -28.332, penalty: 4.094)\n",
      "Epoch 610/1000 | Generator loss: -8.227 | Critic loss: -15.756 (fake: 8.617, real: -28.570, penalty: 4.197)\n",
      "Epoch 620/1000 | Generator loss: -9.179 | Critic loss: -16.042 (fake: 8.129, real: -28.263, penalty: 4.093)\n",
      "Epoch 630/1000 | Generator loss: -8.130 | Critic loss: -16.426 (fake: 8.153, real: -28.933, penalty: 4.354)\n",
      "Epoch 640/1000 | Generator loss: -7.680 | Critic loss: -16.587 (fake: 7.632, real: -28.812, penalty: 4.593)\n",
      "Epoch 650/1000 | Generator loss: -4.789 | Critic loss: -16.813 (fake: 6.874, real: -28.461, penalty: 4.774)\n",
      "Epoch 660/1000 | Generator loss: -6.287 | Critic loss: -17.393 (fake: 7.229, real: -29.652, penalty: 5.030)\n",
      "Epoch 670/1000 | Generator loss: -8.144 | Critic loss: -17.390 (fake: 6.858, real: -29.105, penalty: 4.857)\n",
      "Epoch 680/1000 | Generator loss: -4.717 | Critic loss: -17.738 (fake: 6.243, real: -28.961, penalty: 4.980)\n",
      "Epoch 690/1000 | Generator loss: -6.488 | Critic loss: -18.052 (fake: 6.329, real: -29.643, penalty: 5.262)\n",
      "Epoch 700/1000 | Generator loss: -5.745 | Critic loss: -18.269 (fake: 6.340, real: -29.807, penalty: 5.198)\n",
      "Epoch 710/1000 | Generator loss: -5.295 | Critic loss: -18.287 (fake: 6.567, real: -30.178, penalty: 5.324)\n",
      "Epoch 720/1000 | Generator loss: -4.353 | Critic loss: -18.153 (fake: 6.351, real: -29.941, penalty: 5.437)\n",
      "Epoch 730/1000 | Generator loss: -7.039 | Critic loss: -18.487 (fake: 6.143, real: -30.098, penalty: 5.468)\n",
      "Epoch 740/1000 | Generator loss: -6.083 | Critic loss: -18.745 (fake: 6.470, real: -30.787, penalty: 5.572)\n",
      "Epoch 750/1000 | Generator loss: -6.389 | Critic loss: -18.857 (fake: 5.719, real: -30.000, penalty: 5.424)\n",
      "Epoch 760/1000 | Generator loss: -6.488 | Critic loss: -19.268 (fake: 5.888, real: -30.690, penalty: 5.534)\n",
      "Epoch 770/1000 | Generator loss: -4.965 | Critic loss: -19.403 (fake: 5.995, real: -31.337, penalty: 5.939)\n",
      "Epoch 780/1000 | Generator loss: -3.478 | Critic loss: -19.687 (fake: 5.763, real: -31.471, penalty: 6.020)\n",
      "Epoch 790/1000 | Generator loss: -4.792 | Critic loss: -19.734 (fake: 5.036, real: -30.628, penalty: 5.858)\n",
      "Epoch 800/1000 | Generator loss: -3.926 | Critic loss: -19.899 (fake: 5.259, real: -31.147, penalty: 5.988)\n",
      "Epoch 810/1000 | Generator loss: -5.035 | Critic loss: -20.053 (fake: 4.898, real: -31.072, penalty: 6.121)\n",
      "Epoch 820/1000 | Generator loss: -5.692 | Critic loss: -19.987 (fake: 5.369, real: -31.448, penalty: 6.091)\n",
      "Epoch 830/1000 | Generator loss: -4.811 | Critic loss: -20.236 (fake: 4.926, real: -31.410, penalty: 6.249)\n",
      "Epoch 840/1000 | Generator loss: -3.609 | Critic loss: -20.212 (fake: 5.228, real: -31.785, penalty: 6.345)\n",
      "Epoch 850/1000 | Generator loss: -4.522 | Critic loss: -20.476 (fake: 5.418, real: -32.068, penalty: 6.174)\n",
      "Epoch 860/1000 | Generator loss: -3.906 | Critic loss: -20.167 (fake: 5.091, real: -31.465, penalty: 6.207)\n",
      "Epoch 870/1000 | Generator loss: -2.370 | Critic loss: -20.381 (fake: 5.050, real: -31.715, penalty: 6.284)\n",
      "Epoch 880/1000 | Generator loss: -3.947 | Critic loss: -21.039 (fake: 5.375, real: -33.013, penalty: 6.598)\n",
      "Epoch 890/1000 | Generator loss: -4.722 | Critic loss: -20.368 (fake: 4.536, real: -31.290, penalty: 6.386)\n",
      "Epoch 900/1000 | Generator loss: -4.057 | Critic loss: -20.935 (fake: 5.189, real: -32.688, penalty: 6.564)\n",
      "Epoch 910/1000 | Generator loss: -4.582 | Critic loss: -20.448 (fake: 5.363, real: -32.152, penalty: 6.340)\n",
      "Epoch 920/1000 | Generator loss: -3.245 | Critic loss: -20.559 (fake: 4.570, real: -31.744, penalty: 6.614)\n",
      "Epoch 930/1000 | Generator loss: -3.629 | Critic loss: -20.868 (fake: 4.798, real: -32.220, penalty: 6.554)\n",
      "Epoch 940/1000 | Generator loss: -3.839 | Critic loss: -20.411 (fake: 4.940, real: -31.903, penalty: 6.551)\n",
      "Epoch 950/1000 | Generator loss: -5.355 | Critic loss: -21.044 (fake: 4.767, real: -32.521, penalty: 6.710)\n",
      "Epoch 960/1000 | Generator loss: -1.458 | Critic loss: -21.112 (fake: 5.099, real: -33.170, penalty: 6.959)\n",
      "Epoch 970/1000 | Generator loss: -4.436 | Critic loss: -20.841 (fake: 4.603, real: -32.043, penalty: 6.599)\n",
      "Epoch 980/1000 | Generator loss: -4.939 | Critic loss: -21.122 (fake: 3.928, real: -31.883, penalty: 6.833)\n",
      "Epoch 990/1000 | Generator loss: -5.186 | Critic loss: -20.733 (fake: 4.657, real: -32.000, penalty: 6.609)\n"
     ]
    }
   ],
   "source": [
    "trainer.train(dataloader, epochs=1000)"
   ]
  },
  {
   "cell_type": "code",
   "execution_count": 18,
   "id": "coral-destiny",
   "metadata": {},
   "outputs": [],
   "source": [
    "losses = trainer.data.copy()"
   ]
  },
  {
   "cell_type": "markdown",
   "id": "legendary-leonard",
   "metadata": {},
   "source": [
    "### Save losses"
   ]
  },
  {
   "cell_type": "code",
   "execution_count": 20,
   "id": "freelance-malawi",
   "metadata": {},
   "outputs": [],
   "source": [
    "import pandas as pd\n",
    "\n",
    "df = pd.DataFrame.from_dict(losses)\n",
    "#df.to_csv('results.csv', index=False)"
   ]
  },
  {
   "cell_type": "markdown",
   "id": "acquired-management",
   "metadata": {},
   "source": [
    "### Save models"
   ]
  },
  {
   "cell_type": "code",
   "execution_count": 22,
   "id": "commercial-empty",
   "metadata": {},
   "outputs": [],
   "source": [
    "# generator = generator.eval().cpu()\n",
    "# critic = critic.eval().cpu()\n",
    "#torch.save(generator, 'generator_e1000.pt')\n",
    "#torch.save(critic, 'critic_e1000.pt')"
   ]
  },
  {
   "cell_type": "markdown",
   "id": "compact-variance",
   "metadata": {},
   "source": [
    "### Plot losses"
   ]
  },
  {
   "cell_type": "code",
   "execution_count": 31,
   "id": "informational-tolerance",
   "metadata": {},
   "outputs": [
    {
     "data": {
      "image/png": "[encoded data removed]",
      "text/plain": [
       "<Figure size 864x576 with 1 Axes>"
      ]
     },
     "metadata": {
      "needs_background": "light"
     },
     "output_type": "display_data"
    }
   ],
   "source": [
    "plt.figure(figsize=(12, 8))\n",
    "plt.plot(losses['gloss'][:500], 'orange', label='generator')\n",
    "plt.plot(losses['cfloss'][:500], 'r', label='critic fake')\n",
    "plt.plot(losses['crloss'][:500], 'g', label='critic real')\n",
    "plt.plot(losses['cploss'][:500], 'b', label='critic penalty')\n",
    "plt.plot(losses['closs'][:500], 'm', label='critic')\n",
    "plt.xlabel('epoch', fontsize=12)\n",
    "plt.ylabel('loss', fontsize=12)\n",
    "plt.grid()\n",
    "plt.legend()\n",
    "plt.show()\n",
    "#plt.savefig('losses.png')"
   ]
  },
  {
   "cell_type": "code",
   "execution_count": 17,
   "id": "pursuant-genius",
   "metadata": {},
   "outputs": [],
   "source": [
    "generator = generator.eval().cpu()\n",
    "#generator = torch.load('generator_e1000.pt')"
   ]
  },
  {
   "cell_type": "markdown",
   "id": "solar-calcium",
   "metadata": {},
   "source": [
    "## Make prediction"
   ]
  },
  {
   "cell_type": "code",
   "execution_count": 18,
   "id": "scenic-narrow",
   "metadata": {},
   "outputs": [],
   "source": [
    "chords = torch.rand(1, 32)\n",
    "style = torch.rand(1, 32)\n",
    "melody = torch.rand(1, 4, 32)\n",
    "groove = torch.rand(1, 4, 32)\n",
    "\n",
    "preds = generator(chords, style, melody, groove).detach()"
   ]
  },
  {
   "cell_type": "markdown",
   "id": "changed-spice",
   "metadata": {},
   "source": [
    "### Get music data"
   ]
  },
  {
   "cell_type": "code",
   "execution_count": 19,
   "id": "insured-speaking",
   "metadata": {},
   "outputs": [],
   "source": [
    "from data.utils import postProcess\n",
    "\n",
    "preds = preds.numpy()\n",
    "music_data = postProcess(preds)"
   ]
  },
  {
   "cell_type": "markdown",
   "id": "weighted-potential",
   "metadata": {},
   "source": [
    "### Save file"
   ]
  },
  {
   "cell_type": "code",
   "execution_count": 22,
   "id": "ahead-rolling",
   "metadata": {},
   "outputs": [
    {
     "data": {
      "text/plain": [
       "'myexample.midi'"
      ]
     },
     "execution_count": 22,
     "metadata": {},
     "output_type": "execute_result"
    }
   ],
   "source": [
    "filename = 'myexample.midi'\n",
    "music_data.write('midi', fp=filename)"
   ]
  },
  {
   "cell_type": "code",
   "execution_count": null,
   "id": "killing-plain",
   "metadata": {},
   "outputs": [],
   "source": []
  }
 ],
 "metadata": {
  "kernelspec": {
   "display_name": "Python 3 (ipykernel)",
   "language": "python",
   "name": "python3"
  },
  "language_info": {
   "codemirror_mode": {
    "name": "ipython",
    "version": 3
   },
   "file_extension": ".py",
   "mimetype": "text/x-python",
   "name": "python",
   "nbconvert_exporter": "python",
   "pygments_lexer": "ipython3",
   "version": "3.9.7"
  }
 },
 "nbformat": 4,
 "nbformat_minor": 5
}
