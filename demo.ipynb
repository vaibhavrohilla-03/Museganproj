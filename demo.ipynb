{
 "cells": [
  {
   "cell_type": "markdown",
   "id": "spare-softball",
   "metadata": {},
   "source": [
    "# Import libraries"
   ]
  },
  {
   "cell_type": "code",
   "execution_count": 1,
   "id": "olympic-switch",
   "metadata": {},
   "outputs": [
    {
     "name": "stdout",
     "output_type": "stream",
     "text": [
      "cpu\n"
     ]
    }
   ],
   "source": [
    "import os\n",
    "import sys\n",
    "\n",
    "# Get the path of the current notebook\n",
    "notebook_path = os.path.abspath(os.path.dirname(os.getcwd()))\n",
    "\n",
    "# Add the project root directory to the Python path\n",
    "project_root = os.path.abspath(os.path.join(notebook_path, '..'))\n",
    "sys.path.append(project_root)\n",
    "\n",
    "from trainer import Trainer\n",
    "\n",
    "import numpy as np\n",
    "from matplotlib import pyplot as plt\n",
    "import torch\n",
    "from torch import nn\n",
    "\n",
    "device = torch.device('cuda:0' if torch.cuda.is_available() else 'cpu')\n",
    "print(device)"
   ]
  },
  {
   "cell_type": "markdown",
   "id": "unable-setup",
   "metadata": {},
   "source": [
    "# Models"
   ]
  },
  {
   "cell_type": "code",
   "execution_count": 2,
   "id": "chicken-championship",
   "metadata": {},
   "outputs": [],
   "source": [
    "from gan import TemporalNetwork, BarGenerator, MuseCritic, MuseGenerator"
   ]
  },
  {
   "cell_type": "markdown",
   "id": "opposed-channels",
   "metadata": {},
   "source": [
    "# TempNetwork"
   ]
  },
  {
   "cell_type": "code",
   "execution_count": 3,
   "id": "cubic-piece",
   "metadata": {},
   "outputs": [
    {
     "data": {
      "text/plain": [
       "torch.Size([10, 32, 2])"
      ]
     },
     "execution_count": 3,
     "metadata": {},
     "output_type": "execute_result"
    }
   ],
   "source": [
    "tempnet = TemporalNetwork()\n",
    "x = torch.rand(10, 32)\n",
    "tempnet(x).shape"
   ]
  },
  {
   "cell_type": "code",
   "execution_count": 4,
   "id": "weighted-daily",
   "metadata": {},
   "outputs": [
    {
     "name": "stdout",
     "output_type": "stream",
     "text": [
      "Number of parameters: 101472\n"
     ]
    }
   ],
   "source": [
    "print('Number of parameters:', sum(p.numel() for p in tempnet.parameters()))"
   ]
  },
  {
   "cell_type": "markdown",
   "id": "alert-marks",
   "metadata": {},
   "source": [
    "# BarGenerator"
   ]
  },
  {
   "cell_type": "code",
   "execution_count": 5,
   "id": "enhanced-begin",
   "metadata": {},
   "outputs": [
    {
     "data": {
      "text/plain": [
       "torch.Size([10, 1, 1, 16, 84])"
      ]
     },
     "execution_count": 5,
     "metadata": {},
     "output_type": "execute_result"
    }
   ],
   "source": [
    "bargenerator = BarGenerator()\n",
    "a = torch.rand(10, 128)\n",
    "bargenerator(a).shape"
   ]
  },
  {
   "cell_type": "code",
   "execution_count": 6,
   "id": "finnish-friendship",
   "metadata": {},
   "outputs": [
    {
     "name": "stdout",
     "output_type": "stream",
     "text": [
      "Number of parameters: 1517313\n"
     ]
    }
   ],
   "source": [
    "print('Number of parameters:', sum(p.numel() for p in bargenerator.parameters()))"
   ]
  },
  {
   "cell_type": "markdown",
   "id": "ecological-slovakia",
   "metadata": {},
   "source": [
    "# MuseGenerator"
   ]
  },
  {
   "cell_type": "code",
   "execution_count": 7,
   "id": "dressed-ideal",
   "metadata": {},
   "outputs": [
    {
     "data": {
      "text/plain": [
       "torch.Size([10, 4, 2, 16, 84])"
      ]
     },
     "execution_count": 7,
     "metadata": {},
     "output_type": "execute_result"
    }
   ],
   "source": [
    "generator = MuseGenerator()\n",
    "\n",
    "cords = torch.rand(10, 32)\n",
    "style = torch.rand(10, 32)\n",
    "melody = torch.rand(10, 4, 32)\n",
    "groove = torch.rand(10, 4, 32)\n",
    "\n",
    "generator(cords, style, melody, groove).shape"
   ]
  },
  {
   "cell_type": "code",
   "execution_count": 8,
   "id": "shaped-poetry",
   "metadata": {},
   "outputs": [
    {
     "name": "stdout",
     "output_type": "stream",
     "text": [
      "Number of parameters: 6576612\n"
     ]
    }
   ],
   "source": [
    "print('Number of parameters:', sum(p.numel() for p in generator.parameters()))"
   ]
  },
  {
   "cell_type": "markdown",
   "id": "departmental-filing",
   "metadata": {},
   "source": [
    "# MuseCritic"
   ]
  },
  {
   "cell_type": "code",
   "execution_count": 9,
   "id": "pending-surgeon",
   "metadata": {},
   "outputs": [
    {
     "data": {
      "text/plain": [
       "torch.Size([10, 1])"
      ]
     },
     "execution_count": 9,
     "metadata": {},
     "output_type": "execute_result"
    }
   ],
   "source": [
    "critic = MuseCritic()\n",
    "a = torch.rand(10, 4, 2, 16, 84)\n",
    "critic(a).shape"
   ]
  },
  {
   "cell_type": "code",
   "execution_count": 10,
   "id": "sweet-fraud",
   "metadata": {},
   "outputs": [
    {
     "name": "stdout",
     "output_type": "stream",
     "text": [
      "Number of parameters: 1446401\n"
     ]
    }
   ],
   "source": [
    "print('Number of parameters:', sum(p.numel() for p in critic.parameters()))"
   ]
  },
  {
   "cell_type": "markdown",
   "id": "surprised-finnish",
   "metadata": {},
   "source": [
    "# Dataset Loader"
   ]
  },
  {
   "cell_type": "code",
   "execution_count": 11,
   "id": "indian-lightning",
   "metadata": {},
   "outputs": [],
   "source": [
    "from torch.utils.data import DataLoader\n",
    "from data.utils import MidiDataset\n",
    "\n",
    "dataset = MidiDataset(path='data/chorales/Jsb16thSeparated.npz')\n",
    "dataloader = DataLoader(dataset, batch_size=64, shuffle=True, drop_last=True)"
   ]
  },
  {
   "cell_type": "markdown",
   "id": "introductory-agent",
   "metadata": {},
   "source": [
    "# Define Models"
   ]
  },
  {
   "cell_type": "markdown",
   "id": "caroline-mediterranean",
   "metadata": {},
   "source": [
    "### Generator"
   ]
  },
  {
   "cell_type": "code",
   "execution_count": 12,
   "id": "minus-uniform",
   "metadata": {},
   "outputs": [],
   "source": [
    "generator = MuseGenerator(z_dimension=32, hid_channels=1024, hid_features=1024, out_channels=1)\n",
    "g_optimizer = torch.optim.Adam(generator.parameters(), lr=0.001, betas=(0.5, 0.9))"
   ]
  },
  {
   "cell_type": "markdown",
   "id": "worthy-publisher",
   "metadata": {},
   "source": [
    "### Critic"
   ]
  },
  {
   "cell_type": "code",
   "execution_count": 13,
   "id": "future-diamond",
   "metadata": {},
   "outputs": [],
   "source": [
    "critic = MuseCritic(hid_channels=128,\n",
    "                    hid_features=1024,\n",
    "                    out_features=1)\n",
    "c_optimizer = torch.optim.Adam(critic.parameters(), lr=0.001, betas=(0.5, 0.9))"
   ]
  },
  {
   "cell_type": "code",
   "execution_count": 14,
   "id": "inside-clone",
   "metadata": {},
   "outputs": [],
   "source": [
    "from gan import initialize_weights\n",
    "\n",
    "generator = generator.apply(initialize_weights)\n",
    "critic = critic.apply(initialize_weights)"
   ]
  },
  {
   "cell_type": "markdown",
   "id": "forbidden-subscription",
   "metadata": {},
   "source": [
    "# Training"
   ]
  },
  {
   "cell_type": "code",
   "execution_count": 15,
   "id": "thrown-manual",
   "metadata": {},
   "outputs": [],
   "source": [
    "\n",
    "from trainer import Trainer"
   ]
  },
  {
   "cell_type": "code",
   "execution_count": 16,
   "id": "taken-cover",
   "metadata": {},
   "outputs": [],
   "source": [
    "trainer = Trainer(generator, critic, g_optimizer, c_optimizer)"
   ]
  },
  {
   "cell_type": "code",
   "execution_count": null,
   "id": "stretch-first",
   "metadata": {},
   "outputs": [
    {
     "data": {
      "application/vnd.jupyter.widget-view+json": {
       "model_id": "2c5867cd5575449db3acb80ca9337670",
       "version_major": 2,
       "version_minor": 0
      },
      "text/plain": [
       "  0%|          | 0/1000 [00:00<?, ?it/s]"
      ]
     },
     "metadata": {},
     "output_type": "display_data"
    },
    {
     "name": "stdout",
     "output_type": "stream",
     "text": [
      "Epoch 0/1000 | Generator loss: -891147.205 | Critic loss: -296101.683\n",
      "(fake: -135871.495, real: -202826.390, penalty: 42596.218)\n",
      "Epoch 10/1000 | Generator loss: -38551791616.000 | Critic loss: 8955142963.200\n",
      "(fake: -39086785331.200, real: -39089809681.067, penalty: 87131734589.333)\n",
      "Epoch 20/1000 | Generator loss: -99637873322.667 | Critic loss: -79694769902.933\n",
      "(fake: -101680841796.267, real: -101678271692.800, penalty: 123664343637.333)\n",
      "Epoch 30/1000 | Generator loss: -172607485269.333 | Critic loss: -124251720908.800\n",
      "(fake: -166231367133.867, real: -166224548113.067, penalty: 208204196682.667)\n",
      "Epoch 40/1000 | Generator loss: -242862019925.333 | Critic loss: 60053957290.667\n",
      "(fake: -248698150365.867, real: -248682942737.067, penalty: 557435065765.333)\n",
      "Epoch 50/1000 | Generator loss: -380094797141.333 | Critic loss: -383333892096.000\n",
      "(fake: -377828042342.400, real: -377830239982.933, penalty: 372324397440.000)\n",
      "Epoch 60/1000 | Generator loss: -482621139626.667 | Critic loss: 129627912055.467\n",
      "(fake: -534245159731.200, real: -534248416870.400, penalty: 1198121486656.000)\n",
      "Epoch 70/1000 | Generator loss: -686836678656.000 | Critic loss: -397742803080.533\n",
      "(fake: -724136886272.000, real: -724164616738.133, penalty: 1050558697301.333)\n",
      "Epoch 80/1000 | Generator loss: -984713308842.667 | Critic loss: -368364504132.267\n",
      "(fake: -990565341593.600, real: -990565612475.733, penalty: 1612766424746.667)\n",
      "Epoch 90/1000 | Generator loss: -1152193986560.000 | Critic loss: -839217918771.200\n",
      "(fake: -1131009133772.800, real: -1131055288593.067, penalty: 1422846620565.333)\n",
      "Epoch 100/1000 | Generator loss: -1635823954602.667 | Critic loss: -702135096661.333\n",
      "(fake: -1652118589713.067, real: -1652014457378.133, penalty: 2601997983573.333)\n",
      "Epoch 110/1000 | Generator loss: -1824091406336.000 | Critic loss: -1047941821235.200\n",
      "(fake: -1905784118749.867, real: -1905774681565.867, penalty: 2763617007616.000)\n",
      "Epoch 120/1000 | Generator loss: -2049546780672.000 | Critic loss: -1345662886434.133\n",
      "(fake: -2124084429892.267, real: -2124066534195.200, penalty: 2902488066730.667)\n",
      "Epoch 130/1000 | Generator loss: -2368588786346.667 | Critic loss: -2481189359889.066\n",
      "(fake: -2312599607705.600, real: -2312740081937.067, penalty: 2144150284341.333)\n",
      "Epoch 140/1000 | Generator loss: -3085437239296.000 | Critic loss: -2131072594739.200\n",
      "(fake: -3097654407987.201, real: -3097644848469.333, penalty: 4064226644992.000)\n",
      "Epoch 150/1000 | Generator loss: -3571012162901.333 | Critic loss: -1004714205730.133\n",
      "(fake: -3550966692795.733, real: -3550905788006.400, penalty: 6097158195029.334)\n",
      "Epoch 160/1000 | Generator loss: -4819506692096.000 | Critic loss: -5479244968755.199\n",
      "(fake: -4477416514082.133, real: -4477448181077.333, penalty: 3475619815424.000)\n",
      "Epoch 170/1000 | Generator loss: -5146671404373.334 | Critic loss: -4858407061640.533\n",
      "(fake: -5180341162257.066, real: -5180417323827.200, penalty: 5502351309824.000)\n",
      "Epoch 180/1000 | Generator loss: -6878443951445.334 | Critic loss: -7123524963532.800\n",
      "(fake: -6587720558182.400, real: -6587718146457.600, penalty: 6051913766229.333)\n",
      "Epoch 190/1000 | Generator loss: -7535239976277.332 | Critic loss: -11862150357538.133\n",
      "(fake: -6968595657523.200, real: -6968615161036.801, penalty: 2075060402858.667)\n",
      "Epoch 200/1000 | Generator loss: -7785833562112.000 | Critic loss: -4356021262745.600\n",
      "(fake: -7773603950318.933, real: -7773581126314.668, penalty: 11191163617962.666)\n",
      "Epoch 210/1000 | Generator loss: -9176135587157.332 | Critic loss: -7067148065177.600\n",
      "(fake: -9254767252821.332, real: -9254729434180.266, penalty: 11442348496213.332)\n",
      "Epoch 220/1000 | Generator loss: -10279269171200.000 | Critic loss: -7192160973619.200\n",
      "(fake: -10402372552840.533, real: -10402377271432.533, penalty: 13612589467989.332)\n",
      "Epoch 230/1000 | Generator loss: -13342756306944.000 | Critic loss: -7786802551193.602\n",
      "(fake: -13367719895586.135, real: -13367682426470.398, penalty: 18948600249770.668)\n",
      "Epoch 240/1000 | Generator loss: -14114311110656.000 | Critic loss: -10079343057305.600\n",
      "(fake: -13968631048874.666, real: -13968466142822.398, penalty: 17857754163882.664)\n",
      "Epoch 250/1000 | Generator loss: -19612041915050.668 | Critic loss: -25168898984072.531\n",
      "(fake: -18661360481075.199, real: -18661341257181.867, penalty: 12153802888533.334)\n",
      "Epoch 260/1000 | Generator loss: -21943170367488.000 | Critic loss: -18008481202176.000\n",
      "(fake: -21984862028868.266, real: -21984712571835.730, penalty: 25961094010197.332)\n",
      "Epoch 270/1000 | Generator loss: -31766131070293.336 | Critic loss: -35656666937207.469\n",
      "(fake: -30406250751590.398, real: -30406201118993.062, penalty: 25155786115071.996)\n",
      "Epoch 280/1000 | Generator loss: -41333184004096.000 | Critic loss: -39719631340612.266\n",
      "(fake: -41324073136947.203, real: -41324308577211.727, penalty: 42928749357738.672)\n",
      "Epoch 290/1000 | Generator loss: -53014734482090.672 | Critic loss: -30964810549384.535\n",
      "(fake: -54979254201002.672, real: -54979123897958.391, penalty: 78993567984298.672)\n",
      "Epoch 300/1000 | Generator loss: -75096661513557.328 | Critic loss: -57098426017382.391\n",
      "(fake: -77990872202171.734, real: -77990719529506.125, penalty: 98883165050197.328)\n",
      "Epoch 310/1000 | Generator loss: -127950310954325.312 | Critic loss: -56081061231547.719\n",
      "(fake: -131613692124637.875, real: -131613680380586.656, penalty: 207146315520000.000)\n",
      "Epoch 320/1000 | Generator loss: -206059388709546.688 | Critic loss: -211197862975897.625\n",
      "(fake: -199123860979712.000, real: -199123404639436.812, penalty: 187049397365418.688)\n",
      "Epoch 330/1000 | Generator loss: -349781868150784.000 | Critic loss: -329940020739003.750\n",
      "(fake: -361039536674133.312, real: -361039679839709.812, penalty: 392139199829333.312)\n",
      "Epoch 340/1000 | Generator loss: -530109861724160.000 | Critic loss: -897581449705335.375\n",
      "(fake: -504987061216870.375, real: -504987401235114.625, penalty: 112393028326741.328)\n",
      "Epoch 350/1000 | Generator loss: -968926927607125.500 | Critic loss: -1053030265843439.000\n",
      "(fake: -956128788532428.750, real: -956129258294476.750, penalty: 859227783779669.375)\n",
      "Epoch 360/1000 | Generator loss: -1846860543863467.000 | Critic loss: -487582869470139.750\n",
      "(fake: -1812601092981828.500, real: -1812597755434325.500, penalty: 3137615940397738.500)\n",
      "Epoch 370/1000 | Generator loss: -2178158975516672.000 | Critic loss: -2718548011550856.500\n",
      "(fake: -2177016541059481.750, real: -2177017301626607.000, penalty: 1635485861325482.500)\n",
      "Epoch 380/1000 | Generator loss: -2423666151260160.000 | Critic loss: -4737270973831578.000\n",
      "(fake: -2370969121604676.500, real: -2370969103708979.000, penalty: 4667305119402.666)\n",
      "Epoch 390/1000 | Generator loss: -2249061369380864.000 | Critic loss: -2886404639241011.000\n",
      "(fake: -2256554986727014.000, real: -2256559827513071.000, penalty: 1626710133142869.250)\n",
      "Epoch 400/1000 | Generator loss: -2054963386297003.000 | Critic loss: 1685993832281975.500\n",
      "(fake: -2121140752421137.000, real: -2121133969951948.500, penalty: 5928268596707329.000)\n",
      "Epoch 410/1000 | Generator loss: -2469342681060693.000 | Critic loss: 26926632780291544.000\n",
      "(fake: -2567078706308710.500, real: -2567076218806818.000, penalty: 32060788241421656.000)\n",
      "Epoch 420/1000 | Generator loss: -2182253689962496.000 | Critic loss: -587410633269794.250\n",
      "(fake: -2206614377603618.000, real: -2206613482818765.000, penalty: 3825817314219349.500)\n",
      "Epoch 430/1000 | Generator loss: -2308324446612138.500 | Critic loss: 11788962742438022.000\n",
      "(fake: -2435606768796740.500, real: -2435605847168341.000, penalty: 16660175342359894.000)\n",
      "Epoch 440/1000 | Generator loss: -2399765105650346.500 | Critic loss: -437199144991675.500\n",
      "(fake: -2454175299333871.000, real: -2454175236698931.000, penalty: 4471151353454592.500)\n",
      "Epoch 450/1000 | Generator loss: -2928354962789717.500 | Critic loss: -4578061385902762.000\n",
      "(fake: -2763769435879287.000, real: -2763770276977050.000, penalty: 949478235832320.000)\n",
      "Epoch 460/1000 | Generator loss: -3070885599991125.000 | Critic loss: -5649268123351996.000\n",
      "(fake: -2994068374019549.500, real: -2994066924468087.500, penalty: 338867142922240.000)\n",
      "Epoch 470/1000 | Generator loss: -2673419841699840.000 | Critic loss: -5036074210846310.000\n",
      "(fake: -2521087865432746.500, real: -2521087543310199.500, penalty: 6101143050922.667)\n",
      "Epoch 480/1000 | Generator loss: -3838785666154496.000 | Critic loss: 87524151590177984.000\n",
      "(fake: -3876879985960550.000, real: -3876864237747132.000, penalty: 95277888601647776.000)\n",
      "Epoch 490/1000 | Generator loss: -3330691392951637.000 | Critic loss: -6360200566503288.000\n",
      "(fake: -3254284067921374.000, real: -3254282689952700.000, penalty: 148366191656960.031)\n",
      "Epoch 500/1000 | Generator loss: -3665735170304683.000 | Critic loss: -6937883868362616.000\n",
      "(fake: -3473952264071851.000, real: -3473952192489062.000, penalty: 10020747634005.334)\n",
      "Epoch 510/1000 | Generator loss: -4620318942778709.000 | Critic loss: -8393578494068872.000\n",
      "(fake: -4460803123681690.000, real: -4460803266847266.000, penalty: 528027885677226.688)\n",
      "Epoch 520/1000 | Generator loss: -5030923006028459.000 | Critic loss: -6393276181232572.000\n",
      "(fake: -5030877336209545.000, real: -5030878123620216.000, penalty: 3668479198887936.000)\n",
      "Epoch 530/1000 | Generator loss: -6068210579275776.000 | Critic loss: -9884664580870416.000\n",
      "(fake: -5847586627632060.000, real: -5847587128711578.000, penalty: 1810509359699285.250)\n",
      "Epoch 540/1000 | Generator loss: -5791453445182805.000 | Critic loss: -11409582840890436.000\n",
      "(fake: -5705970711090517.000, real: -5705970639507729.000, penalty: 2358292237653.333)\n",
      "Epoch 550/1000 | Generator loss: -4643913703533227.000 | Critic loss: 73912190122118336.000\n",
      "(fake: -4916878775209165.000, real: -4916875661357875.000, penalty: 83745945901771424.000)\n",
      "Epoch 560/1000 | Generator loss: -5016038617907200.000 | Critic loss: -8843354591793424.000\n",
      "(fake: -4989525391083657.000, real: -4989526536408269.000, penalty: 1135697459915434.750)\n"
     ]
    }
   ],
   "source": [
    "trainer.train(dataloader, epochs=1000)"
   ]
  },
  {
   "cell_type": "code",
   "execution_count": null,
   "id": "coral-destiny",
   "metadata": {},
   "outputs": [],
   "source": [
    "losses = trainer.data.copy()"
   ]
  },
  {
   "cell_type": "markdown",
   "id": "legendary-leonard",
   "metadata": {},
   "source": [
    "### Save losses"
   ]
  },
  {
   "cell_type": "code",
   "execution_count": null,
   "id": "freelance-malawi",
   "metadata": {},
   "outputs": [],
   "source": [
    "import pandas as pd\n",
    "\n",
    "df = pd.DataFrame.from_dict(losses)\n",
    "#df.to_csv('results.csv', index=False)"
   ]
  },
  {
   "cell_type": "markdown",
   "id": "acquired-management",
   "metadata": {},
   "source": [
    "### Save models"
   ]
  },
  {
   "cell_type": "code",
   "execution_count": null,
   "id": "commercial-empty",
   "metadata": {},
   "outputs": [],
   "source": [
    "# generator = generator.eval().cpu()\n",
    "# critic = critic.eval().cpu()\n",
    "#torch.save(generator, 'generator_e1000.pt')\n",
    "#torch.save(critic, 'critic_e1000.pt')"
   ]
  },
  {
   "cell_type": "markdown",
   "id": "compact-variance",
   "metadata": {},
   "source": [
    "### Plot losses"
   ]
  },
  {
   "cell_type": "code",
   "execution_count": null,
   "id": "informational-tolerance",
   "metadata": {},
   "outputs": [],
   "source": [
    "plt.figure(figsize=(12, 8))\n",
    "plt.plot(losses['gloss'][:500], 'orange', label='generator')\n",
    "plt.plot(losses['cfloss'][:500], 'r', label='critic fake')\n",
    "plt.plot(losses['crloss'][:500], 'g', label='critic real')\n",
    "plt.plot(losses['cploss'][:500], 'b', label='critic penalty')\n",
    "plt.plot(losses['closs'][:500], 'm', label='critic')\n",
    "plt.xlabel('epoch', fontsize=12)\n",
    "plt.ylabel('loss', fontsize=12)\n",
    "plt.grid()\n",
    "plt.legend()\n",
    "plt.show()\n",
    "#plt.savefig('losses.png')"
   ]
  },
  {
   "cell_type": "code",
   "execution_count": null,
   "id": "pursuant-genius",
   "metadata": {},
   "outputs": [],
   "source": [
    "generator = generator.eval().cpu()\n",
    "#generator = torch.load('generator_e1000.pt')"
   ]
  },
  {
   "cell_type": "markdown",
   "id": "solar-calcium",
   "metadata": {},
   "source": [
    "## Make prediction"
   ]
  },
  {
   "cell_type": "code",
   "execution_count": null,
   "id": "scenic-narrow",
   "metadata": {},
   "outputs": [],
   "source": [
    "chords = torch.rand(1, 32)\n",
    "style = torch.rand(1, 32)\n",
    "melody = torch.rand(1, 4, 32)\n",
    "groove = torch.rand(1, 4, 32)\n",
    "\n",
    "preds = generator(chords, style, melody, groove).detach()"
   ]
  },
  {
   "cell_type": "markdown",
   "id": "changed-spice",
   "metadata": {},
   "source": [
    "### Get music data"
   ]
  },
  {
   "cell_type": "code",
   "execution_count": null,
   "id": "insured-speaking",
   "metadata": {},
   "outputs": [],
   "source": [
    "from data.utils import postProcess\n",
    "\n",
    "preds = preds.numpy()\n",
    "music_data = postProcess(preds)"
   ]
  },
  {
   "cell_type": "markdown",
   "id": "weighted-potential",
   "metadata": {},
   "source": [
    "### Save file"
   ]
  },
  {
   "cell_type": "code",
   "execution_count": null,
   "id": "ahead-rolling",
   "metadata": {},
   "outputs": [],
   "source": [
    "filename = 'myexample.midi'\n",
    "music_data.write('midi', fp=filename)"
   ]
  },
  {
   "cell_type": "code",
   "execution_count": null,
   "id": "killing-plain",
   "metadata": {},
   "outputs": [],
   "source": []
  }
 ],
 "metadata": {
  "kernelspec": {
   "display_name": "OSM_Data",
   "language": "python",
   "name": "python3"
  },
  "language_info": {
   "codemirror_mode": {
    "name": "ipython",
    "version": 3
   },
   "file_extension": ".py",
   "mimetype": "text/x-python",
   "name": "python",
   "nbconvert_exporter": "python",
   "pygments_lexer": "ipython3",
   "version": "3.10.15"
  }
 },
 "nbformat": 4,
 "nbformat_minor": 5
}
